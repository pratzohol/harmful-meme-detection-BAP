{
 "cells": [
  {
   "cell_type": "code",
   "execution_count": 32,
   "metadata": {},
   "outputs": [],
   "source": [
    "import easyocr\n",
    "import PIL\n",
    "from PIL import Image\n",
    "import cv2\n",
    "import matplotlib.pyplot as plt\n",
    "import pytesseract\n",
    "import numpy as np"
   ]
  },
  {
   "cell_type": "code",
   "execution_count": 2,
   "metadata": {},
   "outputs": [],
   "source": [
    "rmmhs = \"/home/pratzohol/google-drive/work-stuff/harmful-meme-detection/datasets/RMMHS/rmmhs_v2_images\"\n",
    "\n",
    "filepath_1 = rmmhs + \"/image41.jpg\"\n",
    "filepath_2 = rmmhs + \"/image35.jpg\"\n",
    "filepath_3 = rmmhs + \"/image33.jpg\"\n",
    "\n",
    "filepaths = [filepath_1, filepath_2, filepath_3]"
   ]
  },
  {
   "cell_type": "code",
   "execution_count": 3,
   "metadata": {},
   "outputs": [
    {
     "name": "stderr",
     "output_type": "stream",
     "text": [
      "Downloading detection model, please wait. This may take several minutes depending upon your network connection.\n"
     ]
    },
    {
     "name": "stdout",
     "output_type": "stream",
     "text": [
      "Progress: |██████████████████████████████████████████████████| 100.0% Complete"
     ]
    },
    {
     "name": "stderr",
     "output_type": "stream",
     "text": [
      "Downloading recognition model, please wait. This may take several minutes depending upon your network connection.\n"
     ]
    },
    {
     "name": "stdout",
     "output_type": "stream",
     "text": [
      "Progress: |██████████████████████████████████████████████████| 100.0% Complete"
     ]
    }
   ],
   "source": [
    "reader = easyocr.Reader(['en'])"
   ]
  },
  {
   "cell_type": "code",
   "execution_count": 6,
   "metadata": {},
   "outputs": [
    {
     "data": {
      "text/plain": [
       "[([[50, 248], [504, 248], [504, 298], [50, 298]],\n",
       "  'bert and ernie dress U) aS',\n",
       "  0.48600661737804945),\n",
       " ([[66, 280], [464, 280], [464, 333], [66, 333]],\n",
       "  'goats iqan atemit to',\n",
       "  0.4041259982687077),\n",
       " ([[84, 316], [430, 316], [430, 366], [84, 366]],\n",
       "  'catfisharah men',\n",
       "  0.884385480005029)]"
      ]
     },
     "execution_count": 6,
     "metadata": {},
     "output_type": "execute_result"
    }
   ],
   "source": [
    "result = reader.readtext(filepath_3)\n",
    "result"
   ]
  },
  {
   "cell_type": "code",
   "execution_count": 59,
   "metadata": {},
   "outputs": [],
   "source": [
    "def preprocess_image(fp):\n",
    "    im = cv2.imread(fp)\n",
    "    im = cv2.cvtColor(im, cv2.COLOR_BGR2GRAY)\n",
    "    im = cv2.bilateralFilter(im, 7, 55, 60)\n",
    "    _, im = cv2.threshold(im, 235, 255, cv2.THRESH_BINARY_INV)\n",
    "    return im"
   ]
  },
  {
   "cell_type": "code",
   "execution_count": 60,
   "metadata": {},
   "outputs": [
    {
     "name": "stdout",
     "output_type": "stream",
     "text": [
      "Image -------------------\n",
      "[([[21, 1], [550, 1], [550, 45], [21, 45]], 'Ca,/IO( COFIIeIIL OH1 vour Hlother', 0.05608350311072897), ([[3, 322], [543, 322], [543, 361], [3, 361]], 'hecause cows are sacred In IQV couIltry', 0.2743197298420118)]\n",
      "[([[18, 0], [550, 0], [550, 46], [18, 46]], 'cammot commdemt 00 [our mouber', 0.2617960892848942), ([[3, 323], [545, 323], [545, 361], [3, 361]], '[because €OwS are sacred in [1j coumCr', 0.1591427101655201)]\n",
      "icannot comment on your mother\n",
      "\n",
      "hecause cows are sacred in my country\n",
      "\f\n",
      "Image -------------------\n",
      "[([[243, 1], [531, 1], [531, 37], [243, 37]], 'when pveo lle just talk', 0.28446663840962616), ([[241, 28], [543, 28], [543, 68], [241, 68]], 'ahout weetl auul forget', 0.40069808640408955), ([[291, 59], [474, 59], [474, 95], [291, 95]], 'vour hirIhulay', 0.36358054761488623), ([[27, 295], [499, 295], [499, 358], [27, 358]], '(sad racist noises)', 0.6754832560928385)]\n",
      "[([[243, 0], [533, 0], [533, 39], [243, 39]], 'when pveople just talk', 0.7906900350544214), ([[239, 28], [545, 28], [545, 68], [239, 68]], 'about weed and forget', 0.9716487491397436), ([[289, 55], [475, 55], [475, 95], [289, 95]], 'vour birthiay', 0.5055314508181271), ([[23, 291], [497, 291], [497, 358], [23, 358]], '(sad racist noises)', 0.7250355403454766)]\n",
      "when people just talk\n",
      "about weed ant foryet\n",
      "your birthiay\n",
      "\n",
      "(sad racist noises)\n",
      "\f\n",
      "Image -------------------\n",
      "[([[50, 248], [504, 248], [504, 296], [50, 296]], 'hert and ernie dress LI) aS', 0.3780705049749882), ([[68, 282], [464, 282], [464, 332], [68, 332]], 'goals imam alenwt t0', 0.12099656104108882), ([[84, 316], [430, 316], [430, 366], [84, 366]], 'catfish arah) men', 0.8946551262041965)]\n",
      "[([[50, 248], [504, 248], [504, 298], [50, 298]], 'bert and ernie dress U) aS', 0.48600661737804945), ([[66, 280], [464, 280], [464, 333], [66, 333]], 'goats iqan atemit to', 0.4041259982687077), ([[84, 316], [430, 316], [430, 366], [84, 366]], 'catfisharah men', 0.884385480005029)]\n",
      "a\n",
      "\n",
      "hert and ernie dress up as\n",
      "{ goats nan atiempt io\n",
      "catfish arab men\n",
      "\f\n"
     ]
    }
   ],
   "source": [
    "\n",
    "for fp in filepaths:\n",
    "\n",
    "    pim = preprocess_image(fp)\n",
    "\n",
    "    t_p = reader.readtext(pim)\n",
    "    t = reader.readtext(fp)\n",
    "\n",
    "    t_pp = pytesseract.image_to_string(pim)\n",
    "\n",
    "    print(\"Image -------------------\")\n",
    "    print(t_p)\n",
    "    print(t)\n",
    "    print(t_pp)"
   ]
  },
  {
   "cell_type": "code",
   "execution_count": 78,
   "metadata": {},
   "outputs": [
    {
     "data": {
      "text/plain": [
       "'bert and ernie dress Up) aS\\ngoats iqan attemit to\\ncatfisharah men'"
      ]
     },
     "execution_count": 78,
     "metadata": {},
     "output_type": "execute_result"
    }
   ],
   "source": [
    "im3 = cv2.imread(filepath_3)\n",
    "\n",
    "text_easyocr = reader.readtext(im3, detail=0)\n",
    "text = \"\\n\".join(text_easyocr)\n",
    "text"
   ]
  },
  {
   "cell_type": "code",
   "execution_count": null,
   "metadata": {},
   "outputs": [],
   "source": []
  }
 ],
 "metadata": {
  "kernelspec": {
   "display_name": "meme_cls",
   "language": "python",
   "name": "python3"
  },
  "language_info": {
   "codemirror_mode": {
    "name": "ipython",
    "version": 3
   },
   "file_extension": ".py",
   "mimetype": "text/x-python",
   "name": "python",
   "nbconvert_exporter": "python",
   "pygments_lexer": "ipython3",
   "version": "3.8.10"
  }
 },
 "nbformat": 4,
 "nbformat_minor": 2
}
