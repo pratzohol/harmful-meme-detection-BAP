{
 "cells": [
  {
   "cell_type": "code",
   "execution_count": 30,
   "metadata": {},
   "outputs": [],
   "source": [
    "import os\n",
    "import numpy as np\n",
    "import pandas as pd\n",
    "import matplotlib.pyplot as plt\n",
    "\n",
    "from PIL import Image\n",
    "from tqdm.auto import tqdm\n",
    "\n",
    "data_dir = '/home/pratzohol/google-drive/work-stuff/harmful-meme-detection/datasets/fb-data'\n",
    "img_dir = os.path.join(data_dir, 'img')"
   ]
  },
  {
   "cell_type": "code",
   "execution_count": 31,
   "metadata": {},
   "outputs": [],
   "source": [
    "splits = ['train', 'val', 'test']\n",
    "\n",
    "df = []\n",
    "for split in splits:\n",
    "    if split == 'val':\n",
    "        split = 'dev'\n",
    "\n",
    "    file_path = os.path.join(data_dir, f'{split}.jsonl')\n",
    "    split_df = pd.read_json(file_path, lines=True)\n",
    "    split_df['split'] = split\n",
    "    df.append(split_df)\n"
   ]
  },
  {
   "cell_type": "code",
   "execution_count": 32,
   "metadata": {},
   "outputs": [
    {
     "name": "stdout",
     "output_type": "stream",
     "text": [
      "(10000, 5)\n"
     ]
    },
    {
     "data": {
      "text/html": [
       "<div>\n",
       "<style scoped>\n",
       "    .dataframe tbody tr th:only-of-type {\n",
       "        vertical-align: middle;\n",
       "    }\n",
       "\n",
       "    .dataframe tbody tr th {\n",
       "        vertical-align: top;\n",
       "    }\n",
       "\n",
       "    .dataframe thead th {\n",
       "        text-align: right;\n",
       "    }\n",
       "</style>\n",
       "<table border=\"1\" class=\"dataframe\">\n",
       "  <thead>\n",
       "    <tr style=\"text-align: right;\">\n",
       "      <th></th>\n",
       "      <th>id</th>\n",
       "      <th>img</th>\n",
       "      <th>label</th>\n",
       "      <th>text</th>\n",
       "      <th>split</th>\n",
       "    </tr>\n",
       "  </thead>\n",
       "  <tbody>\n",
       "    <tr>\n",
       "      <th>42953</th>\n",
       "      <td>42953</td>\n",
       "      <td>img/42953.png</td>\n",
       "      <td>0.0</td>\n",
       "      <td>its their character not their color that matters</td>\n",
       "      <td>train</td>\n",
       "    </tr>\n",
       "    <tr>\n",
       "      <th>23058</th>\n",
       "      <td>23058</td>\n",
       "      <td>img/23058.png</td>\n",
       "      <td>0.0</td>\n",
       "      <td>don't be afraid to love again everyone is not ...</td>\n",
       "      <td>train</td>\n",
       "    </tr>\n",
       "    <tr>\n",
       "      <th>13894</th>\n",
       "      <td>13894</td>\n",
       "      <td>img/13894.png</td>\n",
       "      <td>0.0</td>\n",
       "      <td>putting bows on your pet</td>\n",
       "      <td>train</td>\n",
       "    </tr>\n",
       "    <tr>\n",
       "      <th>37408</th>\n",
       "      <td>37408</td>\n",
       "      <td>img/37408.png</td>\n",
       "      <td>0.0</td>\n",
       "      <td>i love everything and everybody! except for sq...</td>\n",
       "      <td>train</td>\n",
       "    </tr>\n",
       "    <tr>\n",
       "      <th>82403</th>\n",
       "      <td>82403</td>\n",
       "      <td>img/82403.png</td>\n",
       "      <td>0.0</td>\n",
       "      <td>everybody loves chocolate chip cookies, even h...</td>\n",
       "      <td>train</td>\n",
       "    </tr>\n",
       "  </tbody>\n",
       "</table>\n",
       "</div>"
      ],
      "text/plain": [
       "          id            img  label  \\\n",
       "42953  42953  img/42953.png    0.0   \n",
       "23058  23058  img/23058.png    0.0   \n",
       "13894  13894  img/13894.png    0.0   \n",
       "37408  37408  img/37408.png    0.0   \n",
       "82403  82403  img/82403.png    0.0   \n",
       "\n",
       "                                                    text  split  \n",
       "42953   its their character not their color that matters  train  \n",
       "23058  don't be afraid to love again everyone is not ...  train  \n",
       "13894                           putting bows on your pet  train  \n",
       "37408  i love everything and everybody! except for sq...  train  \n",
       "82403  everybody loves chocolate chip cookies, even h...  train  "
      ]
     },
     "execution_count": 32,
     "metadata": {},
     "output_type": "execute_result"
    }
   ],
   "source": [
    "df = pd.concat(df, axis=0, ignore_index=True)\n",
    "df['id'] = df['img'].str.split('/').str[1].str.split('.').str[0]\n",
    "df.index = df['id']\n",
    "df.index.name = None\n",
    "df.loc[df[\"split\"] == 'dev', \"split\"] = \"val\"\n",
    "print(df.shape)\n",
    "df.head()"
   ]
  },
  {
   "cell_type": "code",
   "execution_count": 33,
   "metadata": {},
   "outputs": [
    {
     "data": {
      "text/plain": [
       "split\n",
       "train    8500\n",
       "test     1000\n",
       "val       500\n",
       "Name: count, dtype: int64"
      ]
     },
     "execution_count": 33,
     "metadata": {},
     "output_type": "execute_result"
    }
   ],
   "source": [
    "df['split'].value_counts()"
   ]
  },
  {
   "cell_type": "code",
   "execution_count": 34,
   "metadata": {},
   "outputs": [
    {
     "data": {
      "text/plain": [
       "label\n",
       "0.0    5700\n",
       "1.0    3300\n",
       "Name: count, dtype: int64"
      ]
     },
     "execution_count": 34,
     "metadata": {},
     "output_type": "execute_result"
    }
   ],
   "source": [
    "df['label'].value_counts(normalize=False)"
   ]
  },
  {
   "cell_type": "code",
   "execution_count": 35,
   "metadata": {},
   "outputs": [],
   "source": [
    "# df[\"text\"].to_csv(\"english.txt\", index=False, header=False)"
   ]
  },
  {
   "cell_type": "code",
   "execution_count": 36,
   "metadata": {},
   "outputs": [],
   "source": [
    "import cv2\n",
    "import pytesseract\n",
    "\n",
    "def preprocess_image(im):\n",
    "    \"\"\"Summary\n",
    "\n",
    "    Args:\n",
    "        im (np.array): Image in BGR format after using cv2.imread(<filePath>)\n",
    "\n",
    "    Returns:\n",
    "        np.array :\n",
    "    \"\"\"\n",
    "    im = cv2.cvtColor(im, cv2.COLOR_BGR2GRAY)\n",
    "    im = cv2.bilateralFilter(im, 9, 55, 60)\n",
    "    _, im = cv2.threshold(im, 235, 255, cv2.THRESH_BINARY_INV)\n",
    "    return im\n",
    "\n",
    "\n",
    "def extract_text_from_meme_eng(file_path):\n",
    "    im = cv2.imread(file_path)\n",
    "    im = preprocess_image(im)\n",
    "\n",
    "    tess_config = r'-l eng --tessdata-dir /usr/share/tesseract-ocr/tessdata_best --oem 1 --psm 11'\n",
    "    txt = pytesseract.image_to_string(im, config=tess_config)\n",
    "    txt = txt.replace('\\n', ' ').strip()\n",
    "\n",
    "    return txt\n",
    "\n",
    "\n",
    "def extract_text_from_meme_all(file_path):\n",
    "    im = cv2.imread(file_path)\n",
    "    im = preprocess_image(im)\n",
    "\n",
    "    tess_config = r'-l eng+chi_sim+chi_tra+tam+msa --tessdata-dir /usr/share/tesseract-ocr/tessdata_best --oem 1 --psm 11'\n",
    "    txt = pytesseract.image_to_string(im, config=tess_config)\n",
    "    txt = txt.replace('\\n', ' ').strip()\n",
    "\n",
    "    return txt"
   ]
  },
  {
   "cell_type": "code",
   "execution_count": 37,
   "metadata": {},
   "outputs": [],
   "source": [
    "file_paths = list(df[\"img\"])\n",
    "file_paths = [f\"{data_dir}/{fp}\" for fp in file_paths]\n",
    "\n",
    "dir = \"/home/pratzohol/google-drive/work-stuff/harmful-meme-detection/datasets/fb-data/ocr/\"\n",
    "all_dir = dir + \"all.txt\"\n",
    "eng_dir = dir + \"eng.txt\"\n"
   ]
  },
  {
   "cell_type": "code",
   "execution_count": 41,
   "metadata": {},
   "outputs": [
    {
     "name": "stderr",
     "output_type": "stream",
     "text": [
      "100%|██████████| 10000/10000 [3:48:59<00:00,  1.37s/it] \n"
     ]
    }
   ],
   "source": [
    "# from tqdm import tqdm\n",
    "\n",
    "# with open(all_dir, \"w\") as f:\n",
    "#     for fp in tqdm(file_paths):\n",
    "#         txt_all = extract_text_from_meme_all(fp)\n",
    "#         f.write(txt_all)\n",
    "#         f.write(\"\\n\")"
   ]
  },
  {
   "cell_type": "code",
   "execution_count": 42,
   "metadata": {},
   "outputs": [
    {
     "name": "stderr",
     "output_type": "stream",
     "text": [
      "100%|██████████| 10000/10000 [37:15<00:00,  4.47it/s]\n"
     ]
    }
   ],
   "source": [
    "# with open(eng_dir, \"w\") as f:\n",
    "#     for fp in tqdm(file_paths):\n",
    "#         txt_eng = extract_text_from_meme_eng(fp)\n",
    "#         f.write(txt_eng)\n",
    "#         f.write(\"\\n\")"
   ]
  },
  {
   "cell_type": "code",
   "execution_count": null,
   "metadata": {},
   "outputs": [],
   "source": []
  }
 ],
 "metadata": {
  "interpreter": {
   "hash": "31f2aee4e71d21fbe5cf8b01ff0e069b9275f58929596ceb00d14d90e3e16cd6"
  },
  "kernelspec": {
   "display_name": "Python 3.8.9 64-bit",
   "language": "python",
   "name": "python3"
  },
  "language_info": {
   "codemirror_mode": {
    "name": "ipython",
    "version": 3
   },
   "file_extension": ".py",
   "mimetype": "text/x-python",
   "name": "python",
   "nbconvert_exporter": "python",
   "pygments_lexer": "ipython3",
   "version": "3.8.10"
  },
  "orig_nbformat": 4
 },
 "nbformat": 4,
 "nbformat_minor": 2
}
