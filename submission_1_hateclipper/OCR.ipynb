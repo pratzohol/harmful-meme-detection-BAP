{
 "cells": [
  {
   "cell_type": "code",
   "execution_count": null,
   "metadata": {},
   "outputs": [],
   "source": [
    "import PIL\n",
    "import cv2\n",
    "import matplotlib.pyplot as plt\n",
    "import pytesseract"
   ]
  }
 ],
 "metadata": {
  "kernelspec": {
   "display_name": "meme_cls",
   "language": "python",
   "name": "python3"
  },
  "language_info": {
   "name": "python",
   "version": "3.8.10"
  }
 },
 "nbformat": 4,
 "nbformat_minor": 2
}
